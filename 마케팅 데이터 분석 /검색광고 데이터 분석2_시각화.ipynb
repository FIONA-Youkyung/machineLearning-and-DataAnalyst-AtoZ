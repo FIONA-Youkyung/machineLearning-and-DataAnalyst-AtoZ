{
 "cells": [
  {
   "cell_type": "markdown",
   "metadata": {},
   "source": [
    "# 패스트캠퍼스 검색광고 데이터 분석\n",
    "\n",
    "## 분석목표 :\n",
    "    1. 중점관리 키워드가 뭔지, 저효율 키워드가 뭔지 추출\n",
    "    2. 중점관리 해야하는 광고그룹은 무엇인지, 저효율 광고그룹은 뭔지 추출\n",
    " \n",
    " ## 분석과정 :\n",
    "     1. 데이터 전처리\n",
    "     2. 데이터 탐색\n",
    "     3. 시각화\n",
    "     4. 데이터 분석"
   ]
  },
  {
   "cell_type": "markdown",
   "metadata": {},
   "source": [
    "# 3. 시각화\n",
    "시각화를 통한 데이터 탐색 실습\n",
    "    - 학습목표\n",
    "        1. 현업의 데이터를 사용하여 데이터 시각화를 실습한다. \n",
    "        2. 데이터를 가공, 처리하여 시각화를 진행한다. \n",
    "        "
   ]
  },
  {
   "cell_type": "code",
   "execution_count": 1,
   "metadata": {},
   "outputs": [],
   "source": [
    "import pandas as pd\n",
    "from pandas import DataFrame\n",
    "from pandas import Series"
   ]
  },
  {
   "cell_type": "code",
   "execution_count": 2,
   "metadata": {},
   "outputs": [],
   "source": [
    "import matplotlib.pyplot as plt"
   ]
  },
  {
   "cell_type": "code",
   "execution_count": 3,
   "metadata": {},
   "outputs": [],
   "source": [
    "#matplotlib 한글 폰트 출력코드\n",
    "#출처 : 데이터 공방 (http:// kiddwannabe.blog.me)\n",
    "\n",
    "import matplotlib\n",
    "from matplotlib import font_manager, rc\n",
    "import platform\n",
    "\n",
    "try :\n",
    "    #맥인 경우\n",
    "    rc('font', family = 'AppleGothic')\n",
    "\n",
    "except :\n",
    "    pass\n",
    "matplotlib.rcParams['axes.unicode_minus'] = False"
   ]
  },
  {
   "cell_type": "code",
   "execution_count": 14,
   "metadata": {},
   "outputs": [],
   "source": [
    "df = pd.read_excel('/Users/jeonghyeonjeong/Desktop/실습데이터_네이버보고서.xls', skiprows=[0])"
   ]
  },
  {
   "cell_type": "markdown",
   "metadata": {},
   "source": [
    "## 1) 시리즈 시각화\n",
    "- 하나의 ['   '] 에 대해 시각화를 하는 것은 시리즈 자료구조를 시각화 하는 것이 된다. \n"
   ]
  },
  {
   "cell_type": "markdown",
   "metadata": {},
   "source": [
    "위는 '노출수' column에 대해서 시리즈 시각화를 진행한 것이다. \n",
    "- 명확한 패턴이 보일 수 있도록 데이터 시각화 진행\n",
    "    1. as-is : index를 기준으로 그래프가 출력되는 것(그래프의 x축이 시리즈의 인덱스)\n",
    "    2. to-be : 정렬된 value를 기준으로 출력\n",
    "    \n",
    "        2-1. 시리즈의 value를 수치 순서대로 오름차순 정렬\n",
    "        \n",
    "        2-2. 정렬된 데이터의 형태대로 index 재생성 후 시각화"
   ]
  },
  {
   "cell_type": "code",
   "execution_count": 15,
   "metadata": {},
   "outputs": [
    {
     "data": {
      "text/plain": [
       "pandas.core.series.Series"
      ]
     },
     "execution_count": 15,
     "metadata": {},
     "output_type": "execute_result"
    }
   ],
   "source": [
    "type(df[ '노출수' ])"
   ]
  },
  {
   "cell_type": "markdown",
   "metadata": {},
   "source": [
    "#### 1. as-is : index를 기준으로 그래프가 출력되는 것(그래프의 x축이 시리즈의 인덱스)"
   ]
  },
  {
   "cell_type": "code",
   "execution_count": 17,
   "metadata": {
    "scrolled": true
   },
   "outputs": [
    {
     "data": {
      "image/png": "[encoded data removed]",
      "text/plain": [
       "<Figure size 432x288 with 1 Axes>"
      ]
     },
     "metadata": {
      "needs_background": "light"
     },
     "output_type": "display_data"
    }
   ],
   "source": [
    "df['노출수'].plot()\n",
    "plt.show()"
   ]
  },
  {
   "cell_type": "markdown",
   "metadata": {},
   "source": [
    "#### 2-1. 시리즈의 value를 수치 순서대로 오름차순 정렬 : sort_values()한 후, reset_index()로 재설정"
   ]
  },
  {
   "cell_type": "code",
   "execution_count": 20,
   "metadata": {},
   "outputs": [
    {
     "data": {
      "text/html": [
       "<div>\n",
       "<style scoped>\n",
       "    .dataframe tbody tr th:only-of-type {\n",
       "        vertical-align: middle;\n",
       "    }\n",
       "\n",
       "    .dataframe tbody tr th {\n",
       "        vertical-align: top;\n",
       "    }\n",
       "\n",
       "    .dataframe thead th {\n",
       "        text-align: right;\n",
       "    }\n",
       "</style>\n",
       "<table border=\"1\" class=\"dataframe\">\n",
       "  <thead>\n",
       "    <tr style=\"text-align: right;\">\n",
       "      <th></th>\n",
       "      <th>index</th>\n",
       "      <th>노출수</th>\n",
       "    </tr>\n",
       "  </thead>\n",
       "  <tbody>\n",
       "    <tr>\n",
       "      <td>0</td>\n",
       "      <td>1057</td>\n",
       "      <td>1001</td>\n",
       "    </tr>\n",
       "    <tr>\n",
       "      <td>1</td>\n",
       "      <td>445</td>\n",
       "      <td>1003</td>\n",
       "    </tr>\n",
       "    <tr>\n",
       "      <td>2</td>\n",
       "      <td>597</td>\n",
       "      <td>1005</td>\n",
       "    </tr>\n",
       "    <tr>\n",
       "      <td>3</td>\n",
       "      <td>983</td>\n",
       "      <td>1006</td>\n",
       "    </tr>\n",
       "    <tr>\n",
       "      <td>4</td>\n",
       "      <td>442</td>\n",
       "      <td>1007</td>\n",
       "    </tr>\n",
       "    <tr>\n",
       "      <td>...</td>\n",
       "      <td>...</td>\n",
       "      <td>...</td>\n",
       "    </tr>\n",
       "    <tr>\n",
       "      <td>1376</td>\n",
       "      <td>13</td>\n",
       "      <td>1470452</td>\n",
       "    </tr>\n",
       "    <tr>\n",
       "      <td>1377</td>\n",
       "      <td>9</td>\n",
       "      <td>1887822</td>\n",
       "    </tr>\n",
       "    <tr>\n",
       "      <td>1378</td>\n",
       "      <td>0</td>\n",
       "      <td>2319456</td>\n",
       "    </tr>\n",
       "    <tr>\n",
       "      <td>1379</td>\n",
       "      <td>173</td>\n",
       "      <td>3095998</td>\n",
       "    </tr>\n",
       "    <tr>\n",
       "      <td>1380</td>\n",
       "      <td>4</td>\n",
       "      <td>9626374</td>\n",
       "    </tr>\n",
       "  </tbody>\n",
       "</table>\n",
       "<p>1381 rows × 2 columns</p>\n",
       "</div>"
      ],
      "text/plain": [
       "      index      노출수\n",
       "0      1057     1001\n",
       "1       445     1003\n",
       "2       597     1005\n",
       "3       983     1006\n",
       "4       442     1007\n",
       "...     ...      ...\n",
       "1376     13  1470452\n",
       "1377      9  1887822\n",
       "1378      0  2319456\n",
       "1379    173  3095998\n",
       "1380      4  9626374\n",
       "\n",
       "[1381 rows x 2 columns]"
      ]
     },
     "execution_count": 20,
     "metadata": {},
     "output_type": "execute_result"
    }
   ],
   "source": [
    "#오름차순 정렬\n",
    "imp_sort = df['노출수'].sort_values()\n",
    "imp_sort\n",
    "\n",
    "#reset_index() : 기준에 따라 정렬 한 데로 index를 다시 reset (여기선 오름차순 정렬 했으니 오름차순), 기존 index를 데이터프레임의 열로 반환\n",
    "imp_sort = imp_sort.reset_index() \n",
    "imp_sort"
   ]
  },
  {
   "cell_type": "code",
   "execution_count": 25,
   "metadata": {},
   "outputs": [
    {
     "data": {
      "image/png": "[encoded data removed]",
      "text/plain": [
       "<Figure size 432x288 with 1 Axes>"
      ]
     },
     "metadata": {
      "needs_background": "light"
     },
     "output_type": "display_data"
    }
   ],
   "source": [
    "#기존의 index column은 필요 없으니 drop('삭제할 인덱스명', axis = 1(열기준이란 의미), inplace = True(원본을 바꾸겠다는 의미))\n",
    "imp_sort.drop('index', axis=1, inplace =True)\n",
    "imp_sort.plot()\n",
    "plt.show()"
   ]
  },
  {
   "cell_type": "code",
   "execution_count": 28,
   "metadata": {},
   "outputs": [
    {
     "data": {
      "image/png": "[encoded data removed]",
      "text/plain": [
       "<Figure size 432x288 with 1 Axes>"
      ]
     },
     "metadata": {
      "needs_background": "light"
     },
     "output_type": "display_data"
    }
   ],
   "source": [
    "#클릭수 칼럼 시각화 (한줄로 코딩)\n",
    "((df['클릭수'].sort_values()).reset_index()).drop('index', axis = 1).plot()\n",
    "plt.show()"
   ]
  },
  {
   "cell_type": "code",
   "execution_count": null,
   "metadata": {},
   "outputs": [],
   "source": []
  }
 ],
 "metadata": {
  "kernelspec": {
   "display_name": "Python 3",
   "language": "python",
   "name": "python3"
  },
  "language_info": {
   "codemirror_mode": {
    "name": "ipython",
    "version": 3
   },
   "file_extension": ".py",
   "mimetype": "text/x-python",
   "name": "python",
   "nbconvert_exporter": "python",
   "pygments_lexer": "ipython3",
   "version": "3.6.9"
  }
 },
 "nbformat": 4,
 "nbformat_minor": 2
}
