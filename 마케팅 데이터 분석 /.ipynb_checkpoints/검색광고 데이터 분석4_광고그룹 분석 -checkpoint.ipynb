{
 "cells": [
  {
   "cell_type": "markdown",
   "metadata": {},
   "source": [
    "# 광고그룹 분석\n",
    "- 학습목표\n",
    "    1. groupby함수 사용실습\n",
    "    2. 키워드 분석과정에서 진행한 코딩 복습"
   ]
  },
  {
   "cell_type": "code",
   "execution_count": null,
   "metadata": {},
   "outputs": [],
   "source": [
    "import pandas as pd\n",
    "from pandas import DataFrame\n",
    "from pandas import Series"
   ]
  },
  {
   "cell_type": "code",
   "execution_count": null,
   "metadata": {},
   "outputs": [],
   "source": [
    "import matplotlib.pyplot as plt"
   ]
  },
  {
   "cell_type": "code",
   "execution_count": null,
   "metadata": {},
   "outputs": [],
   "source": [
    "#matplotlib 한글 폰트 출력코드\n",
    "#출처 : 데이터 공방 (http:// kiddwannabe.blog.me)\n",
    "\n",
    "import matplotlib\n",
    "from matplotlib import font_manager, rc\n",
    "import platform\n",
    "\n",
    "try :\n",
    "    #맥인 경우\n",
    "    rc('font', family = 'AppleGothic')\n",
    "\n",
    "except :\n",
    "    pass\n",
    "matplotlib.rcParams['axes.unicode_minus'] = False"
   ]
  },
  {
   "cell_type": "code",
   "execution_count": null,
   "metadata": {},
   "outputs": [],
   "source": [
    "df = pd.read_excel('/Users/jeonghyeonjeong/Desktop/실습데이터_네이버보고서.xls', skiprows=[0])"
   ]
  },
  {
   "cell_type": "markdown",
   "metadata": {},
   "source": [
    "앞의 '검색광고 데이터 분석3_데이터 분석'에서는\n",
    "## as-is : 키워드 기준 분석\n",
    "을 해 왔다. \n",
    "- 키워드의 노출수/ 클릭수/ 총 비용..."
   ]
  },
  {
   "cell_type": "markdown",
   "metadata": {},
   "source": [
    "지금 광고그룹 분석에서는\n",
    "## to-be : 광고그룹 기준 분석\n",
    "을 할 것이다. \n",
    "- 데이터의 구성을 광고그룹 기준으로 변경해야한다. \n",
    "- 광고그룹의 노출수/ 클릭수 / 총 비용... 등을 groupby함수를 사용하여 분석한다. "
   ]
  },
  {
   "cell_type": "markdown",
   "metadata": {},
   "source": [
    "#### 1. 데이터의 구성을 광고그룹 기준으로 변경\n",
    "    groupby 함수 : 전달된 열을 기준으로 전체 데이터를 분류하는 함수\n",
    "   "
   ]
  },
  {
   "cell_type": "code",
   "execution_count": null,
   "metadata": {},
   "outputs": [],
   "source": [
    "grouped = df.groupby('광고그룹') #'광고그룹'이라는 column의 정보를 grouped 변수에 할당"
   ]
  },
  {
   "cell_type": "code",
   "execution_count": null,
   "metadata": {},
   "outputs": [],
   "source": []
  }
 ],
 "metadata": {
  "kernelspec": {
   "display_name": "Python 3",
   "language": "python",
   "name": "python3"
  }
 },
 "nbformat": 4,
 "nbformat_minor": 2
}
