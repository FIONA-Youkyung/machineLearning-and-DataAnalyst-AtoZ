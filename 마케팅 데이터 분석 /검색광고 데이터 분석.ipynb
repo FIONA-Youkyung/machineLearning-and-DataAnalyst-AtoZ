{
 "cells": [
  {
   "cell_type": "markdown",
   "metadata": {},
   "source": [
    "# 패스트캠퍼스 검색광고 데이터 분석"
   ]
  },
  {
   "cell_type": "markdown",
   "metadata": {},
   "source": [
    "## 분석목표 :\n",
    "    1. 중점관리 키워드가 뭔지, 저효율 키워드가 뭔지 추출\n",
    "    2. 중점관리 해야하는 광고그룹은 무엇인지, 저효율 광고그룹은 뭔지 추출\n",
    " \n",
    " ## 분석과정 :\n",
    "     1. 데이터 전처리\n",
    "     2. 데이터 탐색\n",
    "     3. 시각화\n",
    "     4. 데이터 분석"
   ]
  },
  {
   "cell_type": "markdown",
   "metadata": {},
   "source": [
    "### 1. 데이터 전처리\n",
    "- 학습목표 \n",
    "    1. read_excel함수를 사용하여 파이썬에 데이터 불러오기\n",
    "    2. 데이터프레임의 열 단위 수치연산 및 데이터 타입 다루기"
   ]
  },
  {
   "cell_type": "code",
   "execution_count": 1,
   "metadata": {},
   "outputs": [],
   "source": [
    "import pandas as pd\n",
    "from pandas import DataFrame\n",
    "from pandas import Series"
   ]
  },
  {
   "cell_type": "code",
   "execution_count": 2,
   "metadata": {},
   "outputs": [],
   "source": [
    "import matplotlib.pyplot as plt"
   ]
  },
  {
   "cell_type": "code",
   "execution_count": 3,
   "metadata": {},
   "outputs": [],
   "source": [
    "#matplotlib 한글 폰트 출력코드\n",
    "#출처 : 데이터 공방 (http:// kiddwannabe.blog.me)\n",
    "\n",
    "import matplotlib\n",
    "from matplotlib import font_manager, rc\n",
    "import platform\n",
    "\n",
    "try :\n",
    "    #맥인 경우\n",
    "    rc('font', family = 'AppleGothic')\n",
    "\n",
    "except :\n",
    "    pass\n",
    "matplotlib.rcParams['axes.unicode_minus'] = False"
   ]
  },
  {
   "cell_type": "markdown",
   "metadata": {},
   "source": [
    "#### read_excel 함수를 사용하여 파이썬에 데이터 불러오기\n",
    "- 파이썬의 디렉토리 경로 구분자 : /(슬래시)\n",
    "- 운영체제별 디렉토리 경로 구분자  : \n",
    "    맥의 경우, /(슬래시)"
   ]
  },
  {
   "cell_type": "code",
   "execution_count": 12,
   "metadata": {},
   "outputs": [],
   "source": [
    "df = pd.read_excel('/Users/jeonghyeonjeong/Desktop/실습데이터_네이버보고서.xls')"
   ]
  },
  {
   "cell_type": "code",
   "execution_count": 13,
   "metadata": {},
   "outputs": [
    {
     "data": {
      "text/html": [
       "<div>\n",
       "<style scoped>\n",
       "    .dataframe tbody tr th:only-of-type {\n",
       "        vertical-align: middle;\n",
       "    }\n",
       "\n",
       "    .dataframe tbody tr th {\n",
       "        vertical-align: top;\n",
       "    }\n",
       "\n",
       "    .dataframe thead th {\n",
       "        text-align: right;\n",
       "    }\n",
       "</style>\n",
       "<table border=\"1\" class=\"dataframe\">\n",
       "  <thead>\n",
       "    <tr style=\"text-align: right;\">\n",
       "      <th></th>\n",
       "      <th>캠페인보고서(2019.02.01.~2019.04.30.),ftasia</th>\n",
       "      <th>Unnamed: 1</th>\n",
       "      <th>Unnamed: 2</th>\n",
       "      <th>Unnamed: 3</th>\n",
       "      <th>Unnamed: 4</th>\n",
       "      <th>Unnamed: 5</th>\n",
       "      <th>Unnamed: 6</th>\n",
       "    </tr>\n",
       "  </thead>\n",
       "  <tbody>\n",
       "    <tr>\n",
       "      <td>0</td>\n",
       "      <td>광고그룹</td>\n",
       "      <td>키워드</td>\n",
       "      <td>노출수</td>\n",
       "      <td>클릭수</td>\n",
       "      <td>클릭률(%)</td>\n",
       "      <td>평균클릭비용(VAT포함,원)</td>\n",
       "      <td>총비용(VAT포함,원)</td>\n",
       "    </tr>\n",
       "    <tr>\n",
       "      <td>1</td>\n",
       "      <td>올인원 패키지 : 디자인 툴_파워컨텐츠_포토샵</td>\n",
       "      <td>-</td>\n",
       "      <td>2319456</td>\n",
       "      <td>9606</td>\n",
       "      <td>0.414149</td>\n",
       "      <td>261.549</td>\n",
       "      <td>2512444</td>\n",
       "    </tr>\n",
       "    <tr>\n",
       "      <td>2</td>\n",
       "      <td>올인원 패키지 : 업무자동화_VBA</td>\n",
       "      <td>-</td>\n",
       "      <td>767491</td>\n",
       "      <td>8058</td>\n",
       "      <td>1.04991</td>\n",
       "      <td>295.975</td>\n",
       "      <td>2384965</td>\n",
       "    </tr>\n",
       "    <tr>\n",
       "      <td>3</td>\n",
       "      <td>ㅍAOP 전체_중복키워드_디자인(삭제)</td>\n",
       "      <td>일러스트</td>\n",
       "      <td>1137840</td>\n",
       "      <td>324</td>\n",
       "      <td>0.028475</td>\n",
       "      <td>4841.66</td>\n",
       "      <td>1568699</td>\n",
       "    </tr>\n",
       "    <tr>\n",
       "      <td>4</td>\n",
       "      <td>올인원 패키지 : 데이터 분석 입문 온라인_파콘</td>\n",
       "      <td>-</td>\n",
       "      <td>694106</td>\n",
       "      <td>1863.6</td>\n",
       "      <td>0.268489</td>\n",
       "      <td>630.593</td>\n",
       "      <td>1175174</td>\n",
       "    </tr>\n",
       "  </tbody>\n",
       "</table>\n",
       "</div>"
      ],
      "text/plain": [
       "  캠페인보고서(2019.02.01.~2019.04.30.),ftasia Unnamed: 1 Unnamed: 2 Unnamed: 3  \\\n",
       "0                                   광고그룹        키워드        노출수        클릭수   \n",
       "1              올인원 패키지 : 디자인 툴_파워컨텐츠_포토샵          -    2319456       9606   \n",
       "2                    올인원 패키지 : 업무자동화_VBA          -     767491       8058   \n",
       "3                  ㅍAOP 전체_중복키워드_디자인(삭제)       일러스트    1137840        324   \n",
       "4             올인원 패키지 : 데이터 분석 입문 온라인_파콘          -     694106     1863.6   \n",
       "\n",
       "  Unnamed: 4       Unnamed: 5    Unnamed: 6  \n",
       "0     클릭률(%)  평균클릭비용(VAT포함,원)  총비용(VAT포함,원)  \n",
       "1   0.414149          261.549       2512444  \n",
       "2    1.04991          295.975       2384965  \n",
       "3   0.028475          4841.66       1568699  \n",
       "4   0.268489          630.593       1175174  "
      ]
     },
     "execution_count": 13,
     "metadata": {},
     "output_type": "execute_result"
    }
   ],
   "source": [
    "df.head()"
   ]
  },
  {
   "cell_type": "markdown",
   "metadata": {},
   "source": [
    "#### skiprows 함수 사용으로 불필요한 행 제거 \n",
    "캠페인보고서(2019.02.01.~2019.04.30.),ftasia\tUnnamed: 1\tUnnamed: 2\tUnnamed: 3\tUnnamed: 4\tUnnamed: 5\tUnnamed: 6 이라고 되어있는 가장 윗 행은 없어도 되는 행이다. \n",
    "\n",
    "광고그룹\t키워드\t노출수\t클릭수\t클릭률(%)\t평균클릭비용(VAT포함,원)\t총비용(VAT포함,원) 이 가장 윗 행이 되어야 한다. \n",
    "\n",
    "첫 행을 삭제 해야 함 -> *skiprows=[0]* 이용"
   ]
  },
  {
   "cell_type": "code",
   "execution_count": 14,
   "metadata": {},
   "outputs": [],
   "source": [
    "#첫 행 삭제\n",
    "df = pd.read_excel('/Users/jeonghyeonjeong/Desktop/실습데이터_네이버보고서.xls', skiprows=[0])"
   ]
  },
  {
   "cell_type": "code",
   "execution_count": 15,
   "metadata": {},
   "outputs": [
    {
     "data": {
      "text/html": [
       "<div>\n",
       "<style scoped>\n",
       "    .dataframe tbody tr th:only-of-type {\n",
       "        vertical-align: middle;\n",
       "    }\n",
       "\n",
       "    .dataframe tbody tr th {\n",
       "        vertical-align: top;\n",
       "    }\n",
       "\n",
       "    .dataframe thead th {\n",
       "        text-align: right;\n",
       "    }\n",
       "</style>\n",
       "<table border=\"1\" class=\"dataframe\">\n",
       "  <thead>\n",
       "    <tr style=\"text-align: right;\">\n",
       "      <th></th>\n",
       "      <th>광고그룹</th>\n",
       "      <th>키워드</th>\n",
       "      <th>노출수</th>\n",
       "      <th>클릭수</th>\n",
       "      <th>클릭률(%)</th>\n",
       "      <th>평균클릭비용(VAT포함,원)</th>\n",
       "      <th>총비용(VAT포함,원)</th>\n",
       "    </tr>\n",
       "  </thead>\n",
       "  <tbody>\n",
       "    <tr>\n",
       "      <td>0</td>\n",
       "      <td>올인원 패키지 : 디자인 툴_파워컨텐츠_포토샵</td>\n",
       "      <td>-</td>\n",
       "      <td>2319456</td>\n",
       "      <td>9606.0</td>\n",
       "      <td>0.414149</td>\n",
       "      <td>261.549448</td>\n",
       "      <td>2512444</td>\n",
       "    </tr>\n",
       "    <tr>\n",
       "      <td>1</td>\n",
       "      <td>올인원 패키지 : 업무자동화_VBA</td>\n",
       "      <td>-</td>\n",
       "      <td>767491</td>\n",
       "      <td>8058.0</td>\n",
       "      <td>1.049915</td>\n",
       "      <td>295.974808</td>\n",
       "      <td>2384965</td>\n",
       "    </tr>\n",
       "    <tr>\n",
       "      <td>2</td>\n",
       "      <td>ㅍAOP 전체_중복키워드_디자인(삭제)</td>\n",
       "      <td>일러스트</td>\n",
       "      <td>1137840</td>\n",
       "      <td>324.0</td>\n",
       "      <td>0.028475</td>\n",
       "      <td>4841.663580</td>\n",
       "      <td>1568699</td>\n",
       "    </tr>\n",
       "    <tr>\n",
       "      <td>3</td>\n",
       "      <td>올인원 패키지 : 데이터 분석 입문 온라인_파콘</td>\n",
       "      <td>-</td>\n",
       "      <td>694106</td>\n",
       "      <td>1863.6</td>\n",
       "      <td>0.268489</td>\n",
       "      <td>630.593475</td>\n",
       "      <td>1175174</td>\n",
       "    </tr>\n",
       "    <tr>\n",
       "      <td>4</td>\n",
       "      <td>3. html</td>\n",
       "      <td>HTML</td>\n",
       "      <td>9626374</td>\n",
       "      <td>813.6</td>\n",
       "      <td>0.008452</td>\n",
       "      <td>1408.435349</td>\n",
       "      <td>1145903</td>\n",
       "    </tr>\n",
       "  </tbody>\n",
       "</table>\n",
       "</div>"
      ],
      "text/plain": [
       "                         광고그룹   키워드      노출수     클릭수    클릭률(%)  \\\n",
       "0   올인원 패키지 : 디자인 툴_파워컨텐츠_포토샵     -  2319456  9606.0  0.414149   \n",
       "1         올인원 패키지 : 업무자동화_VBA     -   767491  8058.0  1.049915   \n",
       "2       ㅍAOP 전체_중복키워드_디자인(삭제)  일러스트  1137840   324.0  0.028475   \n",
       "3  올인원 패키지 : 데이터 분석 입문 온라인_파콘     -   694106  1863.6  0.268489   \n",
       "4                     3. html  HTML  9626374   813.6  0.008452   \n",
       "\n",
       "   평균클릭비용(VAT포함,원)  총비용(VAT포함,원)  \n",
       "0       261.549448       2512444  \n",
       "1       295.974808       2384965  \n",
       "2      4841.663580       1568699  \n",
       "3       630.593475       1175174  \n",
       "4      1408.435349       1145903  "
      ]
     },
     "execution_count": 15,
     "metadata": {},
     "output_type": "execute_result"
    }
   ],
   "source": [
    "df.head()"
   ]
  },
  {
   "cell_type": "code",
   "execution_count": null,
   "metadata": {},
   "outputs": [],
   "source": []
  }
 ],
 "metadata": {
  "kernelspec": {
   "display_name": "Python 3",
   "language": "python",
   "name": "python3"
  },
  "language_info": {
   "codemirror_mode": {
    "name": "ipython",
    "version": 3
   },
   "file_extension": ".py",
   "mimetype": "text/x-python",
   "name": "python",
   "nbconvert_exporter": "python",
   "pygments_lexer": "ipython3",
   "version": "3.6.9"
  }
 },
 "nbformat": 4,
 "nbformat_minor": 2
}
