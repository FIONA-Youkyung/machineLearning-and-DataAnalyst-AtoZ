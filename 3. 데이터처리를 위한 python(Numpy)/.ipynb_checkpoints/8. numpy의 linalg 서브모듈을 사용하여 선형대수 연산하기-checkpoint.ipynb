{
 "cells": [
  {
   "cell_type": "markdown",
   "metadata": {},
   "source": [
    "# 8. numpy의 linalg 서브모듈을 사용하여 선형대수 연산하기\n",
    "linalg(linear algebra) package\n",
    "\n",
    "### 1) np.linalg.inv\n",
    "- 역행렬을 구할 때 사용\n",
    "- 모든 차원의 값이 같아야 함"
   ]
  },
  {
   "cell_type": "code",
   "execution_count": 1,
   "metadata": {},
   "outputs": [],
   "source": [
    "import numpy as np"
   ]
  },
  {
   "cell_type": "code",
   "execution_count": 3,
   "metadata": {},
   "outputs": [
    {
     "name": "stdout",
     "output_type": "stream",
     "text": [
      "[[0.90376971 0.72180895 0.75385497]\n",
      " [0.74912083 0.52109986 0.41518676]\n",
      " [0.26460619 0.94222222 0.66494187]]\n"
     ]
    },
    {
     "data": {
      "text/plain": [
       "array([[-0.41575783,  2.14252926, -0.86643463],\n",
       "       [-3.61147741,  3.73443454,  1.7626239 ],\n",
       "       [ 5.28290744, -6.14428703, -0.64895814]])"
      ]
     },
     "execution_count": 3,
     "metadata": {},
     "output_type": "execute_result"
    }
   ],
   "source": [
    "x = np.random.rand(3, 3)\n",
    "print(x)\n",
    "\n",
    "np.linalg.inv(x) #행렬 x의 역행렬을 구함\n",
    "#np.matmul(x, np.linalg.inv(x)) #을 해보면 항등행렬이 나오므로 역행렬이 잘 구해진다는 것을 알 수 있다. \n"
   ]
  },
  {
   "cell_type": "markdown",
   "metadata": {},
   "source": [
    "### 2) np.linalg.solve\n",
    "- Ax = B 형태의 선형대수식 솔루션을 제공한다. \n",
    "- 예) \n",
    "    x+y = 25, \n",
    "    2x+4y = 64 에 대한 행렬 솔루션"
   ]
  },
  {
   "cell_type": "code",
   "execution_count": 4,
   "metadata": {},
   "outputs": [
    {
     "name": "stdout",
     "output_type": "stream",
     "text": [
      "[18.  7.]\n"
     ]
    }
   ],
   "source": [
    "A = np.array([[1, 1], [2, 4]])\n",
    "B = np.array([25, 64])\n",
    "\n",
    "x = np.linalg.solve(A, B)\n",
    "print(x)"
   ]
  },
  {
   "cell_type": "code",
   "execution_count": 5,
   "metadata": {},
   "outputs": [
    {
     "data": {
      "text/plain": [
       "True"
      ]
     },
     "execution_count": 5,
     "metadata": {},
     "output_type": "execute_result"
    }
   ],
   "source": [
    "np.allclose(A@x, B)"
   ]
  },
  {
   "cell_type": "code",
   "execution_count": null,
   "metadata": {},
   "outputs": [],
   "source": []
  }
 ],
 "metadata": {
  "kernelspec": {
   "display_name": "Python 3",
   "language": "python",
   "name": "python3"
  },
  "language_info": {
   "codemirror_mode": {
    "name": "ipython",
    "version": 3
   },
   "file_extension": ".py",
   "mimetype": "text/x-python",
   "name": "python",
   "nbconvert_exporter": "python",
   "pygments_lexer": "ipython3",
   "version": "3.6.9"
  }
 },
 "nbformat": 4,
 "nbformat_minor": 2
}
