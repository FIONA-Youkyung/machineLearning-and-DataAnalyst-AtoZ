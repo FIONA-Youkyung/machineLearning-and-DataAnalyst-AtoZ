{
 "cells": [
  {
   "cell_type": "markdown",
   "metadata": {},
   "source": [
    " numpy의 여러 함수를 사용하여 ndarray의 연산에 대해 알아보자 ."
   ]
  },
  {
   "cell_type": "code",
   "execution_count": 1,
   "metadata": {},
   "outputs": [],
   "source": [
    "import numpy as np"
   ]
  },
  {
   "cell_type": "markdown",
   "metadata": {},
   "source": [
    "## 연산함수\n",
    "- add, substract, multiply, divide"
   ]
  },
  {
   "cell_type": "code",
   "execution_count": 4,
   "metadata": {},
   "outputs": [
    {
     "name": "stdout",
     "output_type": "stream",
     "text": [
      "[[ 0  1  2  3  4]\n",
      " [ 5  6  7  8  9]\n",
      " [10 11 12 13 14]]\n",
      "[[0.07207928 0.73652318 0.34170066 0.8448357  0.01777113]\n",
      " [0.73079477 0.1059902  0.43625667 0.43509957 0.93077894]\n",
      " [0.45015516 0.53824658 0.10250558 0.15588013 0.18955956]]\n"
     ]
    }
   ],
   "source": [
    "x = np.arange(15).reshape(3, 5)\n",
    "y = np.random.rand(15).reshape(3, 5)\n",
    "print(x)\n",
    "print(y)"
   ]
  },
  {
   "cell_type": "code",
   "execution_count": 5,
   "metadata": {},
   "outputs": [
    {
     "data": {
      "text/plain": [
       "array([[ 0.07207928,  1.73652318,  2.34170066,  3.8448357 ,  4.01777113],\n",
       "       [ 5.73079477,  6.1059902 ,  7.43625667,  8.43509957,  9.93077894],\n",
       "       [10.45015516, 11.53824658, 12.10250558, 13.15588013, 14.18955956]])"
      ]
     },
     "execution_count": 5,
     "metadata": {},
     "output_type": "execute_result"
    }
   ],
   "source": [
    "np.add(x, y) #index가 같은 element 끼리 연산 "
   ]
  },
  {
   "cell_type": "code",
   "execution_count": 6,
   "metadata": {},
   "outputs": [],
   "source": [
    "# 단, 기본적으로 shape이 다르면 에러가 발생한다. "
   ]
  },
  {
   "cell_type": "code",
   "execution_count": 7,
   "metadata": {},
   "outputs": [
    {
     "data": {
      "text/plain": [
       "array([[-0.07207928,  0.26347682,  1.65829934,  2.1551643 ,  3.98222887],\n",
       "       [ 4.26920523,  5.8940098 ,  6.56374333,  7.56490043,  8.06922106],\n",
       "       [ 9.54984484, 10.46175342, 11.89749442, 12.84411987, 13.81044044]])"
      ]
     },
     "execution_count": 7,
     "metadata": {},
     "output_type": "execute_result"
    }
   ],
   "source": [
    "np.subtract(x, y)"
   ]
  },
  {
   "cell_type": "code",
   "execution_count": 8,
   "metadata": {},
   "outputs": [
    {
     "data": {
      "text/plain": [
       "array([[0.        , 0.73652318, 0.68340132, 2.53450711, 0.07108452],\n",
       "       [3.65397383, 0.63594122, 3.05379666, 3.48079657, 8.37701049],\n",
       "       [4.50155165, 5.92071239, 1.23006699, 2.02644165, 2.65383388]])"
      ]
     },
     "execution_count": 8,
     "metadata": {},
     "output_type": "execute_result"
    }
   ],
   "source": [
    "np.multiply(x, y)"
   ]
  },
  {
   "cell_type": "code",
   "execution_count": 9,
   "metadata": {},
   "outputs": [],
   "source": [
    "#근데 일반적인 사칙연산연 경우, 연산자를 바로 쓸 수 있다. x+y, x-y, x*y, x/y"
   ]
  },
  {
   "cell_type": "markdown",
   "metadata": {},
   "source": [
    "### 통계 함수\n",
    "- 평균, 분산, 중앙, 최대, 최소값 등등 통계 관련된 함수가 내장"
   ]
  },
  {
   "cell_type": "code",
   "execution_count": 10,
   "metadata": {},
   "outputs": [
    {
     "name": "stdout",
     "output_type": "stream",
     "text": [
      "[[0.07207928 0.73652318 0.34170066 0.8448357  0.01777113]\n",
      " [0.73079477 0.1059902  0.43625667 0.43509957 0.93077894]\n",
      " [0.45015516 0.53824658 0.10250558 0.15588013 0.18955956]]\n"
     ]
    }
   ],
   "source": [
    "print(y)"
   ]
  },
  {
   "cell_type": "code",
   "execution_count": 11,
   "metadata": {},
   "outputs": [
    {
     "data": {
      "text/plain": [
       "0.4058784748387866"
      ]
     },
     "execution_count": 11,
     "metadata": {},
     "output_type": "execute_result"
    }
   ],
   "source": [
    "np.mean(y) # y.mean()로 써도 된다.  #평균"
   ]
  },
  {
   "cell_type": "code",
   "execution_count": 12,
   "metadata": {},
   "outputs": [
    {
     "data": {
      "text/plain": [
       "0.9307789434484579"
      ]
     },
     "execution_count": 12,
     "metadata": {},
     "output_type": "execute_result"
    }
   ],
   "source": [
    "np.max(y) #가장 큰 값"
   ]
  },
  {
   "cell_type": "code",
   "execution_count": 13,
   "metadata": {},
   "outputs": [
    {
     "data": {
      "text/plain": [
       "9"
      ]
     },
     "execution_count": 13,
     "metadata": {},
     "output_type": "execute_result"
    }
   ],
   "source": [
    "np.argmax(y) #가장 큰 값의 index를 flatten일 때로 가정하고 가져온다. "
   ]
  },
  {
   "cell_type": "markdown",
   "metadata": {},
   "source": [
    "### 집계함수\n",
    "- 합계(sum), 누적합계(cumsum) 등등 계산 가능"
   ]
  },
  {
   "cell_type": "code",
   "execution_count": 14,
   "metadata": {},
   "outputs": [
    {
     "data": {
      "text/plain": [
       "array([[0.07207928, 0.73652318, 0.34170066, 0.8448357 , 0.01777113],\n",
       "       [0.73079477, 0.1059902 , 0.43625667, 0.43509957, 0.93077894],\n",
       "       [0.45015516, 0.53824658, 0.10250558, 0.15588013, 0.18955956]])"
      ]
     },
     "execution_count": 14,
     "metadata": {},
     "output_type": "execute_result"
    }
   ],
   "source": [
    "y"
   ]
  },
  {
   "cell_type": "code",
   "execution_count": 16,
   "metadata": {},
   "outputs": [
    {
     "data": {
      "text/plain": [
       "6.088177122581799"
      ]
     },
     "execution_count": 16,
     "metadata": {},
     "output_type": "execute_result"
    }
   ],
   "source": [
    "np.sum(y)"
   ]
  },
  {
   "cell_type": "code",
   "execution_count": 17,
   "metadata": {},
   "outputs": [
    {
     "data": {
      "text/plain": [
       "array([0.07207928, 0.80860246, 1.15030312, 1.99513882, 2.01290995,\n",
       "       2.74370472, 2.84969492, 3.28595159, 3.72105116, 4.6518301 ,\n",
       "       5.10198527, 5.64023185, 5.74273743, 5.89861756, 6.08817712])"
      ]
     },
     "execution_count": 17,
     "metadata": {},
     "output_type": "execute_result"
    }
   ],
   "source": [
    "np.cumsum(y) #해당 수까지의 누적 된 값 합. "
   ]
  },
  {
   "cell_type": "markdown",
   "metadata": {},
   "source": [
    "### any, all함수\n",
    "- any : 특정 조건을 만족하는 것이 하나라도 있으면 True, 아니면 False\n",
    "- all : 모든 원소가 특정 조건을 만족한다면 True, 아니면 False"
   ]
  },
  {
   "cell_type": "code",
   "execution_count": 18,
   "metadata": {},
   "outputs": [
    {
     "name": "stdout",
     "output_type": "stream",
     "text": [
      "[ 0.46709395 -0.93893042  1.20193111 -1.06003105  1.47593562 -0.42303233\n",
      "  0.32644072  0.11635708  0.2818312   1.91734356]\n"
     ]
    }
   ],
   "source": [
    "z = np.random.randn(10)\n",
    "print(z)"
   ]
  },
  {
   "cell_type": "code",
   "execution_count": 19,
   "metadata": {},
   "outputs": [
    {
     "data": {
      "text/plain": [
       "array([ True, False,  True, False,  True, False,  True,  True,  True,\n",
       "        True])"
      ]
     },
     "execution_count": 19,
     "metadata": {},
     "output_type": "execute_result"
    }
   ],
   "source": [
    "z>0"
   ]
  },
  {
   "cell_type": "code",
   "execution_count": 20,
   "metadata": {},
   "outputs": [
    {
     "data": {
      "text/plain": [
       "True"
      ]
     },
     "execution_count": 20,
     "metadata": {},
     "output_type": "execute_result"
    }
   ],
   "source": [
    "np.any(z>0)"
   ]
  },
  {
   "cell_type": "code",
   "execution_count": 21,
   "metadata": {},
   "outputs": [
    {
     "data": {
      "text/plain": [
       "False"
      ]
     },
     "execution_count": 21,
     "metadata": {},
     "output_type": "execute_result"
    }
   ],
   "source": [
    "np.all(z>0)"
   ]
  },
  {
   "cell_type": "markdown",
   "metadata": {},
   "source": [
    "### where 함수\n",
    "- 조건에 따라 선별적으로 값을 선택 가능\n",
    "- 사용 예) 음수인 경우는 0, 나머지는 그대로 값을 쓰는 경우"
   ]
  },
  {
   "cell_type": "code",
   "execution_count": 22,
   "metadata": {},
   "outputs": [
    {
     "name": "stdout",
     "output_type": "stream",
     "text": [
      "[ 0.71827658 -0.71383775 -2.04474376 -0.51845676 -0.55492414 -0.62696209\n",
      "  0.10593903  0.44887045 -0.6941169   0.58963745]\n"
     ]
    }
   ],
   "source": [
    "z = np.random.randn(10)\n",
    "print(z)"
   ]
  },
  {
   "cell_type": "code",
   "execution_count": 24,
   "metadata": {},
   "outputs": [
    {
     "data": {
      "text/plain": [
       "array([0.71827658, 0.        , 0.        , 0.        , 0.        ,\n",
       "       0.        , 0.10593903, 0.44887045, 0.        , 0.58963745])"
      ]
     },
     "execution_count": 24,
     "metadata": {},
     "output_type": "execute_result"
    }
   ],
   "source": [
    "np.where(z>0, z, 0) #where(조건, 참 일 때 값, 거짓 일 때 값)"
   ]
  },
  {
   "cell_type": "code",
   "execution_count": null,
   "metadata": {},
   "outputs": [],
   "source": []
  }
 ],
 "metadata": {
  "kernelspec": {
   "display_name": "Python 3",
   "language": "python",
   "name": "python3"
  },
  "language_info": {
   "codemirror_mode": {
    "name": "ipython",
    "version": 3
   },
   "file_extension": ".py",
   "mimetype": "text/x-python",
   "name": "python",
   "nbconvert_exporter": "python",
   "pygments_lexer": "ipython3",
   "version": "3.6.9"
  }
 },
 "nbformat": 4,
 "nbformat_minor": 2
}
