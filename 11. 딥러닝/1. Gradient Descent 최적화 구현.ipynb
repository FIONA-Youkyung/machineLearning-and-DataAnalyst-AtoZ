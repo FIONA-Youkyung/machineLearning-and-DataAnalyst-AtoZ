{
 "cells": [
  {
   "cell_type": "markdown",
   "metadata": {},
   "source": [
    "# 1. Gradient Descent 최적화 구현"
   ]
  },
  {
   "cell_type": "code",
   "execution_count": 1,
   "metadata": {},
   "outputs": [],
   "source": [
    "import numpy as np"
   ]
  },
  {
   "cell_type": "markdown",
   "metadata": {},
   "source": [
    "## 1)분석적 방법(Analytical method)인 경우"
   ]
  },
  {
   "cell_type": "markdown",
   "metadata": {},
   "source": [
    "### 1. 손실함수 정의 "
   ]
  },
  {
   "cell_type": "code",
   "execution_count": 3,
   "metadata": {},
   "outputs": [],
   "source": [
    "def loss_function(x):\n",
    "    return 0.1*x**4 - 1.5*x**3 + 0.6*x**2 + 1.0*x + 20.0\n",
    "\n",
    "#이라고 이미 식을 알고 있는 경우, "
   ]
  },
  {
   "cell_type": "markdown",
   "metadata": {},
   "source": [
    "### 2. 손실 함수 미분 정의"
   ]
  },
  {
   "cell_type": "code",
   "execution_count": 4,
   "metadata": {},
   "outputs": [],
   "source": [
    "def df_loss_function(x):\n",
    "    return 0.4*x**3 -4.5*x**2 + 1.2*x + 1.0"
   ]
  },
  {
   "cell_type": "markdown",
   "metadata": {},
   "source": [
    "### 3. 하이퍼 파라미터 정의"
   ]
  },
  {
   "cell_type": "code",
   "execution_count": 5,
   "metadata": {},
   "outputs": [],
   "source": [
    "x = 5\n",
    "eps = 1e-5\n",
    "learning_rate = 0.01\n",
    "epochs = 1000\n"
   ]
  },
  {
   "cell_type": "markdown",
   "metadata": {},
   "source": [
    "### 4. Gradient Descent (손실함수가 가장 작게 되는 것을 얻기 위한 )알고리즘"
   ]
  },
  {
   "cell_type": "code",
   "execution_count": 6,
   "metadata": {},
   "outputs": [],
   "source": [
    "min_x = x #초기화\n",
    "min_y = loss_function(min_x) #초기화\n",
    "\n",
    "for _ in range(epochs):\n",
    "    gradient = df_loss_function(x)\n",
    "    new_x = x - learning_rate * gradient\n",
    "    y = loss_function(new_x)\n",
    "    \n",
    "    if min_y > y:\n",
    "        min_x = new_x\n",
    "        min_y = y\n",
    "        \n",
    "    #언제까지 할거냐 x와 new_x의 차이가 eps보다 작으면 멈춘다. \n",
    "    if np.abs(x - new_x) < eps:\n",
    "        break\n",
    "    #아니면\n",
    "    x = new_x"
   ]
  },
  {
   "cell_type": "code",
   "execution_count": 7,
   "metadata": {},
   "outputs": [
    {
     "name": "stdout",
     "output_type": "stream",
     "text": [
      "10.955323272631201 -428.84677390087836\n"
     ]
    }
   ],
   "source": [
    "print(min_x, min_y)"
   ]
  },
  {
   "cell_type": "code",
   "execution_count": 14,
   "metadata": {},
   "outputs": [],
   "source": [
    "##알고리즘 합수로 만들기 (모듈화)\n",
    "##그리고 gradient Descent 진행 동안 변화한 x값을 저장\n",
    "\n",
    "\n",
    "def gradientDescent(initial_x, epoch=1000, learning_late=0.01, eps=1e-5):\n",
    "    x = initial_x\n",
    "    x_log = [x]\n",
    "    \n",
    "    min_x = initial_x\n",
    "    min_y = loss_function(min_x)\n",
    "    \n",
    "    for _ in range(epochs):\n",
    "        grad = df_loss_function(min_x)\n",
    "        new_x = x - learning_rate*grad\n",
    "        y = loss_function(new_x)\n",
    "        \n",
    "        x_log.append(new_x)\n",
    "        \n",
    "        if min_y > y:\n",
    "            min_x = new_x\n",
    "            min_y = y\n",
    "            \n",
    "        if np.abs(x-min_x) < eps:\n",
    "            break\n",
    "            \n",
    "        x = new_x\n",
    "        \n",
    "    return min_x, min_y, x_log\n"
   ]
  },
  {
   "cell_type": "markdown",
   "metadata": {},
   "source": [
    "### 5. Gradient Descent 알고리즘 visualization"
   ]
  },
  {
   "cell_type": "code",
   "execution_count": 17,
   "metadata": {},
   "outputs": [],
   "source": [
    "min_x1, min_y1, x_log1 = gradientDescent(initial_x = 5)\n",
    "min_x2, min_y2, x_log2 = gradientDescent(initial_x = -5)\n",
    "\n",
    "##그리고 gradient Descent 진행 동안 변화한 y값도 저장\n",
    "y_log1 = loss_function(np.array(x_log1))\n",
    "y_log2 = loss_function(np.array(x_log2))\n",
    "\n"
   ]
  },
  {
   "cell_type": "code",
   "execution_count": 18,
   "metadata": {},
   "outputs": [],
   "source": [
    "#본적적으로 x_log와 y_log1, y_log2를 시각화\n",
    "import matplotlib.pyplot as plt"
   ]
  },
  {
   "cell_type": "code",
   "execution_count": 19,
   "metadata": {},
   "outputs": [
    {
     "data": {
      "image/png": "[encoded data removed]",
      "text/plain": [
       "<Figure size 432x288 with 1 Axes>"
      ]
     },
     "metadata": {
      "needs_background": "light"
     },
     "output_type": "display_data"
    }
   ],
   "source": [
    "plt.plot(x_log1, y_log1, '.-')\n",
    "#'.-' : 각각의 데이터는 .으로, 그 사이는 -로 이어준다는 의미이다. \n",
    "plt.plot(x_log2, y_log2, '.-')\n",
    "\n",
    "plt.show() #지금까지 그린 모든 것을 출력한다. "
   ]
  },
  {
   "cell_type": "code",
   "execution_count": null,
   "metadata": {},
   "outputs": [],
   "source": []
  }
 ],
 "metadata": {
  "kernelspec": {
   "display_name": "Python 3",
   "language": "python",
   "name": "python3"
  },
  "language_info": {
   "codemirror_mode": {
    "name": "ipython",
    "version": 3
   },
   "file_extension": ".py",
   "mimetype": "text/x-python",
   "name": "python",
   "nbconvert_exporter": "python",
   "pygments_lexer": "ipython3",
   "version": "3.6.9"
  }
 },
 "nbformat": 4,
 "nbformat_minor": 2
}
