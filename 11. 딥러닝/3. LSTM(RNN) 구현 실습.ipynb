{
 "cells": [
  {
   "cell_type": "markdown",
   "metadata": {},
   "source": [
    "# 3. LSTM(RNN) 구현 실습\n",
    "1. 모듈 불러오기\n",
    "2. 하이퍼 파라미터 정의\n",
    "3. CNN 구조 정의\n",
    "4. 데이터 불러오기 \n",
    "    - 데이터 : keras에서 제공하는 imdb\n",
    "5. 모델 생성\n",
    "6. 모델 학습"
   ]
  },
  {
   "cell_type": "markdown",
   "metadata": {},
   "source": [
    "## 1. 모듈 불러오기"
   ]
  },
  {
   "cell_type": "code",
   "execution_count": 1,
   "metadata": {},
   "outputs": [],
   "source": [
    "import tensorflow as tf"
   ]
  },
  {
   "cell_type": "markdown",
   "metadata": {},
   "source": [
    "## 2. 하이퍼 파라미터 정의"
   ]
  },
  {
   "cell_type": "code",
   "execution_count": 4,
   "metadata": {},
   "outputs": [],
   "source": [
    "EPOCHS = 10\n",
    "NUM_WORDS = 10000"
   ]
  },
  {
   "cell_type": "markdown",
   "metadata": {},
   "source": [
    "## 3. 네트워크 구조 정의(LSTM 구조 정의)\n",
    "- tensorflow 2.0 버전을 사용한 keras방식"
   ]
  },
  {
   "cell_type": "code",
   "execution_count": 16,
   "metadata": {},
   "outputs": [],
   "source": [
    "class MyModel(tf.keras.Model):\n",
    "    def __init__(self): \n",
    "        super().__init__()\n",
    "        self.emb = tf.keras.layers.Embedding(NUM_WORDS, 16)#길이가 16인 vector로 embadding\n",
    "        self.lstm = tf.keras.layers.LSTM(32)#LSTM의 neuron개수 32\n",
    "        self.dense = tf.keras.layers.Dense(1, activation='sigmoid')#binary classification이면 : sigmoid, multiple classification이면 softmax\n",
    "        \n",
    "    \n",
    "    def call(self, x, training=None, mask=None):#연결성\n",
    "        x = self.emb(x)\n",
    "        x = self.lstm(x)\n",
    "        return self.dense(x)\n",
    "        "
   ]
  },
  {
   "cell_type": "markdown",
   "metadata": {},
   "source": [
    "## 4. 데이터셋 불러오기, 전처리\n",
    "- keras의 datasets에서 제공해 주는 imdb\n",
    "- imdb : \n",
    "> feature은 영화에 대한 평이 문장으로 되어 있는 것이고,\n",
    "\n",
    "> label은 그 평이 긍정/부정인지 \n",
    "\n",
    "> NUM_WORD = 10000은 그 평에 너무나 많은 단어가 있기 때문에 가장 많이 쓰이는 단어 top 10000개만 사용하도록 한다. "
   ]
  },
  {
   "cell_type": "code",
   "execution_count": 17,
   "metadata": {},
   "outputs": [],
   "source": [
    "imdb = tf.keras.datasets.imdb\n",
    "(x_train, y_train), (x_test, y_test) = imdb.load_data(num_words = NUM_WORDS)\n",
    "\n",
    "#print(x_train)"
   ]
  },
  {
   "cell_type": "code",
   "execution_count": 18,
   "metadata": {},
   "outputs": [
    {
     "name": "stdout",
     "output_type": "stream",
     "text": [
      "25000 25000\n"
     ]
    }
   ],
   "source": [
    "#이미지 분석 할 때 데이터.shape 보듯이, 여기선 len(데이터)를 본다. \n",
    "print(len(x_train), len(x_test)) #25000 25000\n",
    "\n",
    "#너무 기니까 앞 32단어만 본다.\n",
    "x_train = tf.keras.preprocessing.sequence.pad_sequences(x_train, \n",
    "                                                       value = 0, \n",
    "                                                       padding = 'pre', \n",
    "                                                       maxlen = 32)\n",
    "x_test = tf.keras.preprocessing.sequence.pad_sequences(x_test, \n",
    "                                                       value = 0, \n",
    "            \n",
    "                                                       padding = 'pre', \n",
    "                                                       maxlen = 32)\n",
    "#데이터셋으로 만들기\n",
    "train_ds = tf.data.Dataset.from_tensor_slices((x_train, y_train)).shuffle(1000).batch(32)\n",
    "test_ds = tf.data.Dataset.from_tensor_slices((x_test, y_test)).batch(32)\n",
    "\n",
    "\n"
   ]
  },
  {
   "cell_type": "markdown",
   "metadata": {},
   "source": [
    "## 5. 모델 생성"
   ]
  },
  {
   "cell_type": "code",
   "execution_count": 19,
   "metadata": {},
   "outputs": [],
   "source": [
    "model = MyModel()\n",
    "model.compile(optimizer = 'adam', \n",
    "             loss = 'binary_crossentropy', \n",
    "             metrics = ['accuracy'])"
   ]
  },
  {
   "cell_type": "markdown",
   "metadata": {},
   "source": [
    "## 6. 모델 학습"
   ]
  },
  {
   "cell_type": "code",
   "execution_count": null,
   "metadata": {},
   "outputs": [
    {
     "name": "stdout",
     "output_type": "stream",
     "text": [
      "Epoch 1/10\n",
      "782/782 [==============================] - 82s 105ms/step - loss: 0.5071 - accuracy: 0.7405 - val_loss: 0.0000e+00 - val_accuracy: 0.0000e+00\n",
      "Epoch 2/10\n",
      "782/782 [==============================] - 81s 104ms/step - loss: 0.3733 - accuracy: 0.8343 - val_loss: 0.4450 - val_accuracy: 0.7877\n",
      "Epoch 3/10\n",
      "782/782 [==============================] - 85s 108ms/step - loss: 0.3236 - accuracy: 0.8602 - val_loss: 0.4703 - val_accuracy: 0.7812\n",
      "Epoch 4/10\n",
      "304/782 [==========>...................] - ETA: 40s - loss: 0.2773 - accuracy: 0.8873"
     ]
    }
   ],
   "source": [
    "model.fit(train_ds, validation_data=test_ds, epochs=EPOCHS)"
   ]
  },
  {
   "cell_type": "code",
   "execution_count": null,
   "metadata": {},
   "outputs": [],
   "source": []
  }
 ],
 "metadata": {
  "kernelspec": {
   "display_name": "Python 3",
   "language": "python",
   "name": "python3"
  },
  "language_info": {
   "codemirror_mode": {
    "name": "ipython",
    "version": 3
   },
   "file_extension": ".py",
   "mimetype": "text/x-python",
   "name": "python",
   "nbconvert_exporter": "python",
   "pygments_lexer": "ipython3",
   "version": "3.6.9"
  }
 },
 "nbformat": 4,
 "nbformat_minor": 2
}
