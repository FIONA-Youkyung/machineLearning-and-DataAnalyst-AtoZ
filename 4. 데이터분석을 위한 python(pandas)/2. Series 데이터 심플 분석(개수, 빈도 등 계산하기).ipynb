{
 "cells": [
  {
   "cell_type": "markdown",
   "metadata": {},
   "source": [
    "# 2. Series 데이터 심플 분석(개수, 빈도 등 계산하기)\n",
    "\n",
    "## 학습 목표\n",
    "- Series 함수 활용하여 데이터 분석하기\n",
    "- value-counts 함수를 활용하여 데이터분포 확인하기\n",
    "\n",
    "## 사용 함수\n",
    "- size : 개수 반환\n",
    "- shape : 튜플형태로 shape 반환\n",
    "- unique : 유일한 값만 ndarray로 반환\n",
    "- count : NaN을 제외한 개수를 반환\n",
    "- mean : NaN을 제외한 평균\n",
    "- value_counts : NaN을 제외하고 각 값들의 빈도를 반환"
   ]
  },
  {
   "cell_type": "code",
   "execution_count": 1,
   "metadata": {},
   "outputs": [],
   "source": [
    "import numpy as np\n",
    "import pandas as pd"
   ]
  },
  {
   "cell_type": "code",
   "execution_count": 5,
   "metadata": {},
   "outputs": [
    {
     "data": {
      "text/plain": [
       "0       1.0\n",
       "1       2.0\n",
       "2       3.0\n",
       "3       4.0\n",
       "4       5.0\n",
       "5       2.0\n",
       "6      53.0\n",
       "7      52.0\n",
       "8      53.0\n",
       "9      52.0\n",
       "10      3.0\n",
       "11      5.0\n",
       "12      3.0\n",
       "13      5.0\n",
       "14    245.0\n",
       "15      NaN\n",
       "dtype: float64"
      ]
     },
     "execution_count": 5,
     "metadata": {},
     "output_type": "execute_result"
    }
   ],
   "source": [
    "s = pd.Series([1, 2, 3, 4, 5, 2, 53, 52, 53, 52, 3, 5, 3, 5, 245, np.NaN]) #NaN : not a number 값이 없음. \n",
    "s"
   ]
  },
  {
   "cell_type": "code",
   "execution_count": 9,
   "metadata": {},
   "outputs": [
    {
     "name": "stdout",
     "output_type": "stream",
     "text": [
      "16\n",
      "16\n",
      "(16,)\n"
     ]
    }
   ],
   "source": [
    "#길이\n",
    "print(len(s))\n",
    "#크기\n",
    "print(s.size)\n",
    "#shape : 튜플형태로 값 전달\n",
    "print(s.shape)"
   ]
  },
  {
   "cell_type": "code",
   "execution_count": 11,
   "metadata": {},
   "outputs": [
    {
     "data": {
      "text/plain": [
       "array([  1.,   2.,   3.,   4.,   5.,  53.,  52., 245.,  nan])"
      ]
     },
     "execution_count": 11,
     "metadata": {},
     "output_type": "execute_result"
    }
   ],
   "source": [
    "#unique\n",
    "s.unique()"
   ]
  },
  {
   "cell_type": "code",
   "execution_count": 13,
   "metadata": {},
   "outputs": [
    {
     "data": {
      "text/plain": [
       "15"
      ]
     },
     "execution_count": 13,
     "metadata": {},
     "output_type": "execute_result"
    }
   ],
   "source": [
    "#count : NaN은 세지 않음 \n",
    "s.count()"
   ]
  },
  {
   "cell_type": "code",
   "execution_count": 16,
   "metadata": {},
   "outputs": [
    {
     "name": "stdout",
     "output_type": "stream",
     "text": [
      "nan\n",
      "3.0\n"
     ]
    }
   ],
   "source": [
    "#mean\n",
    "#numpy와 series의 비교\n",
    "\n",
    "a = np.array([1, 2, 3, 4, 5, np.NaN])\n",
    "print(a.mean())#numpy는 NaN가 있으면 계산이 안됨\n",
    "\n",
    "b = pd.Series(a)\n",
    "print(b.mean()) #pandas는 NaN을 무시하고 값을 계산함"
   ]
  },
  {
   "cell_type": "code",
   "execution_count": 17,
   "metadata": {},
   "outputs": [
    {
     "data": {
      "text/plain": [
       "5.0      3\n",
       "3.0      3\n",
       "52.0     2\n",
       "53.0     2\n",
       "2.0      2\n",
       "245.0    1\n",
       "4.0      1\n",
       "1.0      1\n",
       "dtype: int64"
      ]
     },
     "execution_count": 17,
     "metadata": {},
     "output_type": "execute_result"
    }
   ],
   "source": [
    "#value_counts() : 빈도 보여줌. 데이터 분포를 쉽게 한눈에 알아볼 수 있도록 도와준다. \n",
    "s.value_counts()"
   ]
  },
  {
   "cell_type": "code",
   "execution_count": null,
   "metadata": {},
   "outputs": [],
   "source": []
  }
 ],
 "metadata": {
  "kernelspec": {
   "display_name": "Python 3",
   "language": "python",
   "name": "python3"
  },
  "language_info": {
   "codemirror_mode": {
    "name": "ipython",
    "version": 3
   },
   "file_extension": ".py",
   "mimetype": "text/x-python",
   "name": "python",
   "nbconvert_exporter": "python",
   "pygments_lexer": "ipython3",
   "version": "3.6.9"
  }
 },
 "nbformat": 4,
 "nbformat_minor": 2
}
