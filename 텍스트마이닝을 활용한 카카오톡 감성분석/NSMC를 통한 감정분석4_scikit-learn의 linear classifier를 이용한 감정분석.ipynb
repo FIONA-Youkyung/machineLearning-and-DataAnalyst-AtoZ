{
 "cells": [
  {
   "cell_type": "markdown",
   "metadata": {},
   "source": [
    "# NSMC를 통한 감정분석\n",
    "\n",
    "## scikit-learn의 linear classifier를 이용한 감정분석"
   ]
  },
  {
   "cell_type": "markdown",
   "metadata": {},
   "source": [
    "### 0. 설계\n",
    "텍스트 분류할 때 어떤 방식을 써야 성능이 점진적으로 올라가는지를 보려고, 여러가지 방법으로 학습을 할건데, \n",
    "#### 기준1. \n",
    "    1. 명사만 추출 할 것인지\n",
    "    2. 전처리 하지 않고 형태소 분석 할 것인지\n",
    "    3. 전처리 하고 형태소 분석 할 것인지\n",
    "#### 기준2. \n",
    "    1. linear classification을 쓸 건지\n",
    "    2. support vector machine, SVM을 쓸 건지\n",
    "#### 더 나아가면\n",
    "    1. 어떤 embedding vector을 쓸 건지\n",
    "    2. layer 몇 개 쓸건지\n",
    "    3. hyperparameter tuning어떻게 쓸건지"
   ]
  },
  {
   "cell_type": "markdown",
   "metadata": {},
   "source": [
    "### 1. 전에 했던 nsmc 불러와서 텍스트 정제하기"
   ]
  },
  {
   "cell_type": "code",
   "execution_count": 1,
   "metadata": {},
   "outputs": [
    {
     "name": "stdout",
     "output_type": "stream",
     "text": [
      "150000\n",
      "50000\n"
     ]
    }
   ],
   "source": [
    "def read_documents(filename):\n",
    "    with open(filename, encoding='utf-8') as f:\n",
    "        documents = [line.split('\\t') for line in f.read().splitlines()]\n",
    "        documents = documents[1:]\n",
    "        \n",
    "    return documents\n",
    "    \n",
    "train_docs = read_documents(\"data/nsmc/ratings_train.txt\")\n",
    "test_docs = read_documents(\"data/nsmc/ratings_test.txt\")\n",
    "\n",
    "print(len(train_docs))\n",
    "print(len(test_docs))"
   ]
  },
  {
   "cell_type": "markdown",
   "metadata": {},
   "source": [
    "### 2. 함수 정의"
   ]
  },
  {
   "cell_type": "code",
   "execution_count": 2,
   "metadata": {},
   "outputs": [],
   "source": [
    "def text_cleaning(doc):\n",
    "    # 한국어를 제외한 글자를 제거하는 함수.\n",
    "    doc = re.sub(\"[^ㄱ-ㅎㅏ-ㅣ가-힣 ]\", \"\", doc)\n",
    "    return doc\n",
    "\n",
    "def define_stopwords(path):\n",
    "    \n",
    "    SW = set()\n",
    "    # 불용어를 추가하는 방법 1.\n",
    "    # SW.add(\"있다\")\n",
    "    \n",
    "    # 불용어를 추가하는 방법 2.\n",
    "    # stopwords-ko.txt에 직접 추가\n",
    "    \n",
    "    with open(path) as f:\n",
    "        for word in f:\n",
    "            SW.add(word)\n",
    "            \n",
    "    return SW\n",
    "\n",
    "def text_tokenizing(doc):\n",
    "    return [word for word in mecab.morphs(doc) if word not in SW and len(word) > 1] #형태소 분석\n",
    "    \n",
    "    # wordcloud를 위해 명사만 추출하는 경우.\n",
    "    #return [word for word in mecab.nouns(doc) if word not in SW and len(word) > 1]\n"
   ]
  },
  {
   "cell_type": "markdown",
   "metadata": {},
   "source": [
    "### 3. 불러온 데이터를 품사 태그를 붙여서 토크나이징 한다."
   ]
  },
  {
   "cell_type": "code",
   "execution_count": 3,
   "metadata": {},
   "outputs": [
    {
     "name": "stdout",
     "output_type": "stream",
     "text": [
      "[['진짜', '짜증', '네요', '목소리'], '0']\n",
      "[[], '0']\n"
     ]
    }
   ],
   "source": [
    "from konlpy.tag import Mecab\n",
    "from konlpy.tag import Okt\n",
    "import json\n",
    "import os\n",
    "import re\n",
    "from pprint import pprint\n",
    "\n",
    "okt = Okt()\n",
    "mecab = Mecab()\n",
    "\n",
    "SW = define_stopwords(\"data/stopwords-ko.txt\")\n",
    "\n",
    "if os.path.exists('train_docs.json'):\n",
    "    with open(\"train_docs.json\", encoding='utf-8') as f:\n",
    "        train_data = json.load(f)\n",
    "else:#############################여기 cleaning부분 공부 필요##########################\n",
    "    train_data = [(text_tokenizing(text_cleaning(line[1])), line[2]) for line in train_docs if text_tokenizing(line[1])]\n",
    "    #train_data = [(text_tokenizing(line[1]), line[2]) for line in train_docs if text_tokenizing(line[1])]\n",
    "    ###############################################################################\n",
    "    with open(\"train_docs.json\", 'w', encoding='utf-8') as f:\n",
    "        json.dump(train_data, f, ensure_ascii=False, indent='\\t')\n",
    "        \n",
    "if os.path.exists('test_docs.json'):\n",
    "    with open(\"test_docs.json\", encoding='utf-8') as f:\n",
    "        test_data = json.load(f)\n",
    "else:\n",
    "    test_data = [(text_tokenizing(text_cleaning(line[1])), line[2]) for line in test_docs if text_tokenizing(line[1])]\n",
    "    #test_data = [(text_tokenizing(line[1]), line[2]) for line in test_docs if text_tokenizing(line[1])]\n",
    "    with open(\"test_docs.json\", 'w', encoding='utf-8') as f:\n",
    "        json.dump(test_data, f, ensure_ascii=False, indent='\\t')\n",
    "\n",
    "pprint(train_data[0])\n",
    "pprint(test_data[0])"
   ]
  },
  {
   "cell_type": "code",
   "execution_count": 8,
   "metadata": {},
   "outputs": [
    {
     "name": "stdout",
     "output_type": "stream",
     "text": [
      "1949\n",
      "641\n"
     ]
    }
   ],
   "source": [
    "#정제를 하고나서 사라지는 데이터의 개수를 알 수 있다. \n",
    "print(len(train_docs) - len(train_data)) \n",
    "print(len(test_docs) - len(test_data))"
   ]
  },
  {
   "cell_type": "markdown",
   "metadata": {},
   "source": [
    "### 4. NLTK를 이용한 histogram 분석"
   ]
  },
  {
   "cell_type": "code",
   "execution_count": 9,
   "metadata": {},
   "outputs": [],
   "source": [
    "import nltk"
   ]
  },
  {
   "cell_type": "code",
   "execution_count": 11,
   "metadata": {},
   "outputs": [
    {
     "name": "stdout",
     "output_type": "stream",
     "text": [
      "1138291\n"
     ]
    }
   ],
   "source": [
    "total_tokens = [token for doc in train_data for token in doc[0]]\n",
    "print(len(total_tokens))"
   ]
  },
  {
   "cell_type": "code",
   "execution_count": 12,
   "metadata": {},
   "outputs": [
    {
     "name": "stdout",
     "output_type": "stream",
     "text": [
      "48018\n",
      "[('영화', 57597),\n",
      " ('는데', 11464),\n",
      " ('너무', 11013),\n",
      " ('정말', 9779),\n",
      " ('으로', 9314),\n",
      " ('재밌', 8988),\n",
      " ('네요', 8978),\n",
      " ('지만', 8654),\n",
      " ('진짜', 8327),\n",
      " ('에서', 8064)]\n"
     ]
    }
   ],
   "source": [
    "text = nltk.Text(total_tokens, name = 'NMSC')\n",
    "print(len(set(text.tokens)))\n",
    "pprint(text.vocab().most_common(10))"
   ]
  },
  {
   "cell_type": "markdown",
   "metadata": {},
   "source": [
    "### 5. Histogram 그리기"
   ]
  },
  {
   "cell_type": "code",
   "execution_count": 13,
   "metadata": {},
   "outputs": [
    {
     "data": {
      "image/png": "[encoded data removed]",
      "text/plain": [
       "<Figure size 1152x720 with 1 Axes>"
      ]
     },
     "metadata": {
      "needs_background": "light"
     },
     "output_type": "display_data"
    }
   ],
   "source": [
    "import matplotlib.pyplot as plt\n",
    "import platform\n",
    "from matplotlib import font_manager, rc\n",
    "%matplotlib inline\n",
    "\n",
    "path  =  \"c:/Windows/Fonts/malgun.ttf\"\n",
    "\n",
    "if  platform.system()  ==  'Darwin':\n",
    "    \n",
    "    rc('font',  family='AppleGothic')\n",
    "\n",
    "elif  platform.system()  ==  'Windows':\n",
    "    \n",
    "    font_name  =  font_manager.FontProperties(fname=path).get_name()\n",
    "    \n",
    "    rc('font',  family=font_name)\n",
    "\n",
    "else:\n",
    "    \n",
    "    print('Unknown system... sorry~~~~')\n",
    "\n",
    "    \n",
    "plt.figure(figsize = (16, 10))\n",
    "text.plot(50)"
   ]
  },
  {
   "cell_type": "code",
   "execution_count": 14,
   "metadata": {},
   "outputs": [],
   "source": [
    "#list_to_str : 여러 리스트를 하나의 join으로 만들어주는 것\n",
    "#왜 사용? 후에 사용할 counter vectorizor의 Input이 string이기 때문이다. \n",
    "\n",
    "def list_to_str(List) :\n",
    "    return \" \".join(List)"
   ]
  },
  {
   "cell_type": "markdown",
   "metadata": {},
   "source": [
    "### 6. Linear Classifier와 Support Vector Machine으로 nsmc 분류하기"
   ]
  },
  {
   "cell_type": "code",
   "execution_count": 15,
   "metadata": {},
   "outputs": [],
   "source": [
    "#Linear Classification에 필요한 라이브러리 불러오기\n",
    "from sklearn.pipeline import Pipeline\n",
    "from sklearn.feature_extraction.text import CountVectorizer\n",
    "from sklearn.linear_model import SGDClassifier\n",
    "from sklearn.svm import SVC\n",
    "from sklearn.naive_bayes import MultinomialNB\n",
    "import numpy as np"
   ]
  },
  {
   "cell_type": "code",
   "execution_count": 22,
   "metadata": {},
   "outputs": [],
   "source": [
    "#학습을 위해 데이터 셋 모양 통일하기\n",
    "#굉장히 많이 쓰는 방식 \n",
    "#중요\n",
    "\n",
    "#doc : 토크나이징된 텍스트 데이터 하나하나의 list\n",
    "#list_to_str(doc) : 이걸 string으로 바꾼 걸 원소로 하는 \n",
    "#doc, _ : 그것 중 doc, label 중 을 하나하나 가져와서 앞의 것(doc)만 넣어준다. \n",
    "train_x = [list_to_str(doc) for doc, _ in train_data]\n",
    "test_x = [list_to_str(doc) for doc, _ in test_data]\n",
    "#_, label : 그것 중 doc, label 중 을 하나하나 가져와서 뒤의 것(label)만 넣어준다. \n",
    "train_y = [label for _, label in train_data]\n",
    "test_y = [label for _, label in test_data]"
   ]
  },
  {
   "cell_type": "code",
   "execution_count": 26,
   "metadata": {},
   "outputs": [],
   "source": [
    "#학습 모델 파이프라인 만들기\n",
    "#linear classifier 을 사용\n",
    "\n",
    "#1. Perceptron linear classifier\n",
    "learner = Pipeline([\n",
    "    ('vect', CountVectorizer(min_df= 5)),#전체 문서에서 5번 이하로 등장하는 단어는 빼버리면 하위단어가 제거되니까 약간 성능 향상을 기대해 볼 수있다. \n",
    "    ('clf', SGDClassifier(loss='perceptron', penalty='l2',\n",
    "                         alpha=1e-4, random_state=42,\n",
    "                         max_iter=100))\n",
    "])\n",
    "\n",
    "#2. SVM"
   ]
  },
  {
   "cell_type": "code",
   "execution_count": 27,
   "metadata": {},
   "outputs": [],
   "source": [
    "#학습기 정하기\n",
    "classifier = learner\n",
    "\n",
    "#학습\n",
    "classifier.fit(train_x, train_y)\n",
    "train_predict = classifier.predict(train_x)\n",
    "train_accuracy = np.mean(train_predict == train_y)\n",
    "\n",
    "test_predict  = classifier.predict(test_x)\n",
    "test_accuracy = np.mean(test_predict == test_y)\n"
   ]
  },
  {
   "cell_type": "code",
   "execution_count": 28,
   "metadata": {},
   "outputs": [
    {
     "name": "stdout",
     "output_type": "stream",
     "text": [
      "For 49359 test data : \n",
      "Training Accuracy : 0.80\n",
      "Test Accuracy : .0.761786\n"
     ]
    }
   ],
   "source": [
    "#테스트 및 성능 측정\n",
    "print(\"For %d test data : \" % len(test_x))\n",
    "print(\"Training Accuracy : %.2f\" % train_accuracy)\n",
    "print(\"Test Accuracy : .%2f\" % test_accuracy)"
   ]
  },
  {
   "cell_type": "code",
   "execution_count": null,
   "metadata": {},
   "outputs": [],
   "source": []
  }
 ],
 "metadata": {
  "kernelspec": {
   "display_name": "Python 3",
   "language": "python",
   "name": "python3"
  },
  "language_info": {
   "codemirror_mode": {
    "name": "ipython",
    "version": 3
   },
   "file_extension": ".py",
   "mimetype": "text/x-python",
   "name": "python",
   "nbconvert_exporter": "python",
   "pygments_lexer": "ipython3",
   "version": "3.6.9"
  }
 },
 "nbformat": 4,
 "nbformat_minor": 2
}
