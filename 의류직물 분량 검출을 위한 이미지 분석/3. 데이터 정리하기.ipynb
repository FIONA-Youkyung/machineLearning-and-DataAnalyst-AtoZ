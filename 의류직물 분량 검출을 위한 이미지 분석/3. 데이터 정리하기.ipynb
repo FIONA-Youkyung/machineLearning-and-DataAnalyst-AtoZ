{
 "cells": [
  {
   "cell_type": "markdown",
   "metadata": {},
   "source": [
    "# 3. 데이터 정리하기\n",
    "## 학습목표\n",
    "데이터를 정리해서 TFRecord형태로 저장하기\n",
    "\n",
    "[TensorFlow] Dataset 모듈 및 TFRecord 기본 사용법 정리\n",
    "TensorFlow에서 학습 데이터를 불러올 수 있게 해주는 모듈인 Dataset 모듈 및 TFRecord에 대한 기본적인 사용법 정리\n",
    "https://hcnoh.github.io/2018-11-05-tensorflow-data-module"
   ]
  },
  {
   "cell_type": "markdown",
   "metadata": {},
   "source": [
    "## TFRecord Builder"
   ]
  },
  {
   "cell_type": "code",
   "execution_count": 1,
   "metadata": {},
   "outputs": [],
   "source": [
    "import glob\n",
    "import os\n",
    "import tensorflow as tf\n",
    "import cv2"
   ]
  },
  {
   "cell_type": "markdown",
   "metadata": {},
   "source": [
    "## Paths and Hyperparameters"
   ]
  },
  {
   "cell_type": "code",
   "execution_count": 2,
   "metadata": {},
   "outputs": [],
   "source": [
    "DATASET_OK_PATTERN = 'dataset/3/OK/*.png'\n",
    "DATASET_FAIL_PATTERN = 'dataset/3/FAIL/*.png'\n",
    "\n",
    "TFRECORD_PATH = 'tfrecords/'\n",
    "IMAGE_PER_TFRECORD = 100"
   ]
  },
  {
   "cell_type": "markdown",
   "metadata": {},
   "source": [
    "## Import data"
   ]
  },
  {
   "cell_type": "code",
   "execution_count": 3,
   "metadata": {},
   "outputs": [],
   "source": [
    "ok_list = glob.glob(DATASET_OK_PATTERN)\n",
    "fail_list = glob.glob(DATASET_FAIL_PATTERN)\n",
    "\n",
    "#개수 저장\n",
    "num_ok = len(ok_list)\n",
    "num_fail = len(fail_list)\n",
    "\n",
    "# Oversampling - num_ok가 num_fail보다 훨씬 많아서 num_ok만큼 반복해서 개수를 맞춰보도록 함. \n",
    "fail_list_new = list()\n",
    "for _ in range(num_ok // num_fail):\n",
    "    fail_list_new += fail_list\n",
    "fail_list_new += fail_list[: num_ok % num_fail]\n",
    "fail_list = fail_list_new\n",
    "\n",
    "#Oversampling이 끝나고 ok_label과 fail_label을 만들어주고 (이전 시간에 배웠던 것)\n",
    "ok_label = [0] * len(ok_list)\n",
    "fail_label = [1] * len(fail_list)\n",
    "\n",
    "#file과 label을 묶어준다 \n",
    "file_list = ok_list + fail_list\n",
    "label_list = ok_label + fail_label"
   ]
  },
  {
   "cell_type": "markdown",
   "metadata": {},
   "source": [
    "## TFRecord functions - TFRecord를 build하는데 쓰이는 furnction들은 tensorflow정식 API tutorial에서 발췌하여서 그대로 쓴 것이다. \n",
    "그대로 쓰는 것도 괜찮다!"
   ]
  },
  {
   "cell_type": "code",
   "execution_count": 4,
   "metadata": {},
   "outputs": [],
   "source": [
    "def _bytes_feature(value):\n",
    "    \"\"\"Returns a bytes_list from a string / byte.\"\"\"\n",
    "    if isinstance(value, type(tf.constant(0))):\n",
    "        value = value.numpy() # BytesList won't unpack a string from an EagerTensor.\n",
    "    return tf.train.Feature(bytes_list=tf.train.BytesList(value=[value]))\n",
    "\n",
    "def _int64_feature(value):\n",
    "    \"\"\"Returns an int64_list from a bool / enum / int / uint.\"\"\"\n",
    "    return tf.train.Feature(int64_list=tf.train.Int64List(value=[value]))\n",
    "\n",
    "def image_example(image_string, label):\n",
    "    image_shape = tf.image.decode_image(image_string).shape\n",
    "\n",
    "    feature = {\n",
    "        'height': _int64_feature(image_shape[0]),\n",
    "        'width': _int64_feature(image_shape[1]),\n",
    "        'depth': _int64_feature(image_shape[2]),\n",
    "        'label': _int64_feature(label),\n",
    "        'image_raw': _bytes_feature(image_string),\n",
    "    }\n",
    "\n",
    "    return tf.train.Example(features=tf.train.Features(feature=feature))"
   ]
  },
  {
   "cell_type": "markdown",
   "metadata": {},
   "source": [
    "## Write TFRecords"
   ]
  },
  {
   "cell_type": "code",
   "execution_count": 5,
   "metadata": {},
   "outputs": [],
   "source": [
    "if os.path.exists(TFRECORD_PATH) is False:\n",
    "    os.mkdir(TFRECORD_PATH)\n",
    "\n",
    "num_tfrecords = len(file_list) // IMAGE_PER_TFRECORD\n",
    "if len(file_list) % IMAGE_PER_TFRECORD != 0:\n",
    "    num_tfrecords += 1\n",
    "\n",
    "for idx in range(num_tfrecords):\n",
    "    idx0 = idx * IMAGE_PER_TFRECORD\n",
    "    idx1 = idx0 + IMAGE_PER_TFRECORD\n",
    "    record_file = TFRECORD_PATH + '%05d.tfrecords' % idx\n",
    "    with tf.io.TFRecordWriter(record_file) as writer:\n",
    "        for filename, label in zip(file_list[idx0:idx1], \n",
    "                                   label_list[idx0:idx1]):\n",
    "            image_string = open(filename, 'rb').read()\n",
    "            tf_example = image_example(image_string, label)\n",
    "            writer.write(tf_example.SerializeToString())"
   ]
  },
  {
   "cell_type": "code",
   "execution_count": null,
   "metadata": {},
   "outputs": [],
   "source": []
  }
 ],
 "metadata": {
  "kernelspec": {
   "display_name": "Python 3",
   "language": "python",
   "name": "python3"
  },
  "language_info": {
   "codemirror_mode": {
    "name": "ipython",
    "version": 3
   },
   "file_extension": ".py",
   "mimetype": "text/x-python",
   "name": "python",
   "nbconvert_exporter": "python",
   "pygments_lexer": "ipython3",
   "version": "3.6.9"
  }
 },
 "nbformat": 4,
 "nbformat_minor": 2
}
